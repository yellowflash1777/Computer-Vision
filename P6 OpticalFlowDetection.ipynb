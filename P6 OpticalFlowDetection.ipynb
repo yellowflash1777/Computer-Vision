{
 "cells": [
  {
   "attachments": {},
   "cell_type": "markdown",
   "metadata": {},
   "source": [
    "Write a program to use Lucas-Kanade method for optical flow detection."
   ]
  },
  {
   "cell_type": "code",
   "execution_count": 2,
   "metadata": {},
   "outputs": [],
   "source": [
    "import numpy as np\n",
    "import cv2"
   ]
  },
  {
   "cell_type": "code",
   "execution_count": 3,
   "metadata": {},
   "outputs": [],
   "source": [
    "cap = cv2.VideoCapture('Assets\\Videos\\Horse.mp4')"
   ]
  },
  {
   "cell_type": "code",
   "execution_count": 4,
   "metadata": {},
   "outputs": [],
   "source": [
    "# params for corner detection\n",
    "feature_params = dict( maxCorners = 100,\n",
    "\t\t\t\t\tqualityLevel = 0.3,\n",
    "\t\t\t\t\tminDistance = 7,\n",
    "\t\t\t\t\tblockSize = 7 )"
   ]
  },
  {
   "cell_type": "code",
   "execution_count": 5,
   "metadata": {},
   "outputs": [],
   "source": [
    "# Parameters for lucas kanade optical flow\n",
    "lk_params = dict( winSize = (15, 15),\n",
    "\t\t\t\tmaxLevel = 2,\n",
    "\t\t\t\tcriteria = (cv2.TERM_CRITERIA_EPS | cv2.TERM_CRITERIA_COUNT,\n",
    "\t\t\t\t\t\t\t10, 0.03))"
   ]
  },
  {
   "cell_type": "code",
   "execution_count": 6,
   "metadata": {},
   "outputs": [],
   "source": [
    "# Create some random colors\n",
    "color = np.random.randint(0, 255, (100, 3))"
   ]
  },
  {
   "cell_type": "code",
   "execution_count": 7,
   "metadata": {},
   "outputs": [],
   "source": [
    "# Take first frame and find corners in it\n",
    "ret, old_frame = cap.read()\n",
    "old_gray = cv2.cvtColor(old_frame,\n",
    "\t\t\t\t\t\tcv2.COLOR_BGR2GRAY)\n",
    "p0 = cv2.goodFeaturesToTrack(old_gray, mask = None,\n",
    "\t\t\t\t\t\t\t**feature_params)"
   ]
  },
  {
   "cell_type": "code",
   "execution_count": 8,
   "metadata": {},
   "outputs": [],
   "source": [
    "# Create a mask image for drawing purposes\n",
    "mask = np.zeros_like(old_frame)"
   ]
  },
  {
   "cell_type": "code",
   "execution_count": null,
   "metadata": {},
   "outputs": [],
   "source": [
    "while(1):\n",
    "\t\n",
    "\tret, frame = cap.read()\n",
    "\tframe_gray = cv2.cvtColor(frame, cv2.COLOR_BGR2GRAY)\n",
    "\n",
    "\t# calculate optical flow\n",
    "\tp1, st, err = cv2.calcOpticalFlowPyrLK(old_gray,\n",
    "\t\t\t\t\t\t\t\t\t\tframe_gray,\n",
    "\t\t\t\t\t\t\t\t\t\tp0, None,\n",
    "\t\t\t\t\t\t\t\t\t\t**lk_params)\n",
    "\n",
    "\t# Select good points\n",
    "\tgood_new = p1[st == 1]\n",
    "\tgood_old = p0[st == 1]\n",
    "\n",
    "\t# draw the tracks\n",
    "\tfor i, (new, old) in enumerate(zip(good_new,\n",
    "\t\t\t\t\t\t\t\t\tgood_old)):\n",
    "\t\t\n",
    "\t\ta, b = map(int, new.ravel())\n",
    "\t\tc, d = map(int, old.ravel())\n",
    "\t\tmask = cv2.line(mask, (a, b), (c, d), color[i].tolist(), 2)\n",
    "\t\t\n",
    "\t\tframe = cv2.circle(frame, (a, b), 5,\n",
    "\t\t\t\t\t\tcolor[i].tolist(), -1)\n",
    "\t\t\n",
    "\timg = cv2.add(frame, mask)\n",
    "\n",
    "\tcv2.imshow('frame', img)\n",
    "\t\n",
    "\tk = cv2.waitKey(25)\n",
    "\tif k == 27:\n",
    "\t\tbreak\n",
    "\n",
    "\t# Updating Previous frame and points\n",
    "\told_gray = frame_gray.copy()\n",
    "\tp0 = good_new.reshape(-1, 1, 2)\n",
    "\n",
    "cv2.destroyAllWindows()\n",
    "cap.release()"
   ]
  }
 ],
 "metadata": {
  "kernelspec": {
   "display_name": "Python 3",
   "language": "python",
   "name": "python3"
  },
  "language_info": {
   "codemirror_mode": {
    "name": "ipython",
    "version": 3
   },
   "file_extension": ".py",
   "mimetype": "text/x-python",
   "name": "python",
   "nbconvert_exporter": "python",
   "pygments_lexer": "ipython3",
   "version": "3.10.8"
  },
  "orig_nbformat": 4
 },
 "nbformat": 4,
 "nbformat_minor": 2
}
